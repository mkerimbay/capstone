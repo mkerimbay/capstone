{
 "cells": [
  {
   "cell_type": "markdown",
   "id": "cd60d13b-2e6b-4853-9227-64cabfb8ae3a",
   "metadata": {},
   "source": [
    "# Preprocessing"
   ]
  },
  {
   "cell_type": "markdown",
   "id": "eb7ec88f-a86d-470f-a786-5b3e5be04e09",
   "metadata": {},
   "source": [
    "## imports"
   ]
  },
  {
   "cell_type": "code",
   "execution_count": 17,
   "id": "5d4cce5e-226d-4252-86fd-329dab6ac7c5",
   "metadata": {},
   "outputs": [],
   "source": [
    "import pandas as pd\n",
    "import numpy as np\n",
    "import datetime\n",
    "# import python_ta as pta\n",
    "import os\n",
    "import matplotlib.pyplot as plt\n",
    "from tqdm import tqdm\n",
    "\n",
    "from catboost import CatBoostClassifier\n",
    "from catboost import CatBoostRegressor\n",
    "\n",
    "from sklearn.preprocessing import MinMaxScaler\n",
    "from sklearn.model_selection import train_test_split\n",
    "from sklearn.metrics import accuracy_score, classification_report, confusion_matrix, mean_squared_error"
   ]
  },
  {
   "cell_type": "markdown",
   "id": "991e1c27-b1e1-4850-a3be-1c4e795330a0",
   "metadata": {},
   "source": [
    "## constants"
   ]
  },
  {
   "cell_type": "code",
   "execution_count": 2,
   "id": "06741b90-b22c-484f-8bd9-5c3cb74e4bc5",
   "metadata": {},
   "outputs": [],
   "source": [
    "main_directory_crypto = 'klines/crypto/'"
   ]
  },
  {
   "cell_type": "code",
   "execution_count": 27,
   "id": "cf2ed78d-2127-45e4-94eb-2d20adc708a0",
   "metadata": {},
   "outputs": [],
   "source": [
    "# MinMax Scaler\n",
    "# Specify the minimum and maximum values for your features\n",
    "feature_min = -100  # Minimum value is -100%\n",
    "feature_max = 1000  # Maximum value is 1000%\n",
    "\n",
    "# Create the scaler object\n",
    "scaler = MinMaxScaler(feature_range=(-1, 1), clip=True)\n",
    "scaler.min_, scaler.max_ = feature_min, feature_max"
   ]
  },
  {
   "cell_type": "markdown",
   "id": "921ab0b3-bb8a-4a71-92d9-538702c392c1",
   "metadata": {},
   "source": [
    "## helpers"
   ]
  },
  {
   "cell_type": "code",
   "execution_count": 3,
   "id": "0f86e6a4-415c-406a-8274-13dee0e0a889",
   "metadata": {},
   "outputs": [],
   "source": [
    "def wwma(values, n):\n",
    "    \"\"\"\n",
    "     J. Welles Wilder's EMA\n",
    "    \"\"\"\n",
    "    return values.ewm(alpha=1 / n, adjust=False).mean()\n",
    "\n",
    "def percentage(f, t):\n",
    "    return round((t/f - 1) * 100, 2)\n",
    "    \n",
    "def upwick(d):\n",
    "    return percentage(max(d['open'], d['close']), d['high'])\n",
    "\n",
    "def downwick(d):\n",
    "    return percentage(min(d['open'], d['close']), d['high'])\n",
    "\n",
    "# body\n",
    "\n",
    "# range\n",
    "\n",
    "def vwma(prices, volumes, window):\n",
    "    \"\"\"\n",
    "    Calculate the Volume Weighted Moving Average (VWMA).\n",
    "    \n",
    "    Parameters:\n",
    "        prices (pandas.Series): Series of prices.\n",
    "        volumes (pandas.Series): Series of volumes.\n",
    "        window (int): Window size for the moving average.\n",
    "    \n",
    "    Returns:\n",
    "        pandas.Series: Volume Weighted Moving Average (VWMA) values.\n",
    "    \"\"\"\n",
    "    # Calculate typical price\n",
    "    typical_price = (prices * volumes).sum() / volumes.sum()\n",
    "    \n",
    "    # Calculate VWMA\n",
    "    vwma_values = pd.Series(index=prices.index)\n",
    "    for i in range(len(prices) - window + 1):\n",
    "        vwma_values.iloc[i + window - 1] = (prices.iloc[i:i+window] * volumes.iloc[i:i+window]).sum() / volumes.iloc[i:i+window].sum()\n",
    "    \n",
    "    return vwma_values\n",
    "\n",
    "def generate_features(df):\n",
    "    # SMA - Simple Moving Averages\n",
    "    sma_periods = [10, 20, 50, 100, 200]\n",
    "    for n in sma_periods:\n",
    "        df['tmp'] = df['close'].rolling(window=n).mean()\n",
    "        df[f'f_sma_{n}'] = percentage(df['tmp'], df['close'])\n",
    "\n",
    "    # EMA - Exponential Moving Averages\n",
    "    ema_periods = [10, 20, 50, 100, 200]\n",
    "    for n in ema_periods:\n",
    "        df['tmp'] = df['close'].ewm(span=n, adjust=False).mean()\n",
    "        df[f'f_ema_{n}'] = percentage(df['tmp'], df['close'])\n",
    "\n",
    "    # ATR - Average True Range\n",
    "    atr_periods = [7,10,14,20,30]\n",
    "    df['tr0'] = abs(df['high'] - df['low'])\n",
    "    df['tr1'] = abs(df['high'] - df['close'].shift())\n",
    "    df['tr2'] = abs(df['low'] - df['close'].shift())\n",
    "    df['tr'] = df[['tr0', 'tr1', 'tr2']].max(axis=1)\n",
    "    df.drop(['tr0', 'tr1','tr2'], axis=1, inplace=True)\n",
    "\n",
    "    for n in atr_periods:\n",
    "        df['tmp'] = wwma(df['tr'], n)\n",
    "        df[f'f_atr_{n}'] = percentage(df['tmp'], df['tr'])\n",
    "    df.drop('tr', axis=1, inplace=True)\n",
    "    # df['f_atr_14'].apply(lambda x: np.log(x+100)-4.5).hist()\n",
    "\n",
    "    # Candlestick info\n",
    "    df['f_upwick'] = df.apply(upwick, axis=1)\n",
    "    df['f_body'] = percentage(df['open'], df['close'])\n",
    "    df['f_downwick'] = df.apply(downwick, axis=1)\n",
    "    df['f_range'] = percentage(df['low'], df['high'])\n",
    "\n",
    "    # SIMPLE VOLUME MOVING AVERAGE - [10,20,50]\n",
    "    vma_periods = [10,20,50]\n",
    "    for n in vma_periods:\n",
    "        df['tmp'] = df['volume'].rolling(window=n).mean()\n",
    "        df[f'f_vma_{n}'] = percentage(df['tmp'], df['volume'])\n",
    "    \n",
    "\n",
    "    # VWMA - Volume Weighted Moving Average\n",
    "    vwma_periods = [10,20,50]\n",
    "    for n in vwma_periods:\n",
    "        df['tmp'] = vwma(df['close'], df['volume'], window=n)\n",
    "        df[f'f_vwma_{n}'] = percentage(df['tmp'], df['close'])\n",
    "\n",
    "    df.drop('tmp', axis=1, inplace=True)\n",
    "\n",
    "    # 1-2-3 days ago features appended\n",
    "    for col in df.columns:\n",
    "        if not col.startswith('f'):\n",
    "            continue    \n",
    "        for i in range(1,4):\n",
    "            df[f\"{col}_{i}\"] = df[col].shift(i)\n",
    "        \n",
    "    # Targets\n",
    "    df['target_clf'] = (df['close'] >= df['close'].shift(1)).astype(int)\n",
    "    df['target_clf'] = df['target_clf'].shift(-1)\n",
    "    df['target_reg'] = percentage(df['close'].shift(1), df['close'])\n",
    "    df['target_reg'] = df['target_reg'].shift(-1)\n",
    "    \n",
    "    \n",
    "    return df"
   ]
  },
  {
   "cell_type": "markdown",
   "id": "d225c08e-e7f7-4774-80e4-3d4eb08c903b",
   "metadata": {},
   "source": [
    "## test one ticker"
   ]
  },
  {
   "cell_type": "code",
   "execution_count": 16,
   "id": "c2f2f149-0cc3-4e1b-a50e-9d641e5772db",
   "metadata": {
    "scrolled": true
   },
   "outputs": [
    {
     "name": "stderr",
     "output_type": "stream",
     "text": [
      "/var/folders/6w/2zf1qgfd4dqg3bs98bn50z4m0000gn/T/ipykernel_54178/3836025416.py:36: DeprecationWarning: The default dtype for empty Series will be 'object' instead of 'float64' in a future version. Specify a dtype explicitly to silence this warning.\n",
      "  vwma_values = pd.Series(index=prices.index)\n",
      "/var/folders/6w/2zf1qgfd4dqg3bs98bn50z4m0000gn/T/ipykernel_54178/3319185808.py:14: PerformanceWarning: DataFrame is highly fragmented.  This is usually the result of calling `frame.insert` many times, which has poor performance.  Consider joining all columns at once using pd.concat(axis=1) instead.  To get a de-fragmented frame, use `newframe = frame.copy()`\n",
      "  df[f\"{col}_{i}\"] = df[col].shift(i)\n"
     ]
    },
    {
     "data": {
      "text/html": [
       "<div>\n",
       "<style scoped>\n",
       "    .dataframe tbody tr th:only-of-type {\n",
       "        vertical-align: middle;\n",
       "    }\n",
       "\n",
       "    .dataframe tbody tr th {\n",
       "        vertical-align: top;\n",
       "    }\n",
       "\n",
       "    .dataframe thead th {\n",
       "        text-align: right;\n",
       "    }\n",
       "</style>\n",
       "<table border=\"1\" class=\"dataframe\">\n",
       "  <thead>\n",
       "    <tr style=\"text-align: right;\">\n",
       "      <th></th>\n",
       "      <th>time</th>\n",
       "      <th>open</th>\n",
       "      <th>high</th>\n",
       "      <th>low</th>\n",
       "      <th>close</th>\n",
       "      <th>volume</th>\n",
       "      <th>f_sma_10</th>\n",
       "      <th>f_sma_20</th>\n",
       "      <th>f_sma_50</th>\n",
       "      <th>f_sma_100</th>\n",
       "      <th>...</th>\n",
       "      <th>f_vwma_20_3_3</th>\n",
       "      <th>f_vwma_50_1_1</th>\n",
       "      <th>f_vwma_50_1_2</th>\n",
       "      <th>f_vwma_50_1_3</th>\n",
       "      <th>f_vwma_50_2_1</th>\n",
       "      <th>f_vwma_50_2_2</th>\n",
       "      <th>f_vwma_50_2_3</th>\n",
       "      <th>f_vwma_50_3_1</th>\n",
       "      <th>f_vwma_50_3_2</th>\n",
       "      <th>f_vwma_50_3_3</th>\n",
       "    </tr>\n",
       "  </thead>\n",
       "  <tbody>\n",
       "    <tr>\n",
       "      <th>205</th>\n",
       "      <td>2021-12-07</td>\n",
       "      <td>0.000192</td>\n",
       "      <td>0.000196</td>\n",
       "      <td>0.000182</td>\n",
       "      <td>0.000182</td>\n",
       "      <td>27.84</td>\n",
       "      <td>-13.82</td>\n",
       "      <td>-14.76</td>\n",
       "      <td>-9.26</td>\n",
       "      <td>-15.03</td>\n",
       "      <td>...</td>\n",
       "      <td>5.40</td>\n",
       "      <td>-2.45</td>\n",
       "      <td>5.92</td>\n",
       "      <td>8.30</td>\n",
       "      <td>5.92</td>\n",
       "      <td>8.30</td>\n",
       "      <td>8.17</td>\n",
       "      <td>8.30</td>\n",
       "      <td>8.17</td>\n",
       "      <td>9.81</td>\n",
       "    </tr>\n",
       "    <tr>\n",
       "      <th>206</th>\n",
       "      <td>2021-12-08</td>\n",
       "      <td>0.000183</td>\n",
       "      <td>0.000191</td>\n",
       "      <td>0.000181</td>\n",
       "      <td>0.000190</td>\n",
       "      <td>14.36</td>\n",
       "      <td>-9.41</td>\n",
       "      <td>-11.39</td>\n",
       "      <td>-5.45</td>\n",
       "      <td>-11.38</td>\n",
       "      <td>...</td>\n",
       "      <td>3.37</td>\n",
       "      <td>-5.83</td>\n",
       "      <td>-2.45</td>\n",
       "      <td>5.92</td>\n",
       "      <td>-2.45</td>\n",
       "      <td>5.92</td>\n",
       "      <td>8.30</td>\n",
       "      <td>5.92</td>\n",
       "      <td>8.30</td>\n",
       "      <td>8.17</td>\n",
       "    </tr>\n",
       "    <tr>\n",
       "      <th>207</th>\n",
       "      <td>2021-12-09</td>\n",
       "      <td>0.000190</td>\n",
       "      <td>0.000192</td>\n",
       "      <td>0.000177</td>\n",
       "      <td>0.000178</td>\n",
       "      <td>15.19</td>\n",
       "      <td>-13.71</td>\n",
       "      <td>-16.74</td>\n",
       "      <td>-11.28</td>\n",
       "      <td>-16.84</td>\n",
       "      <td>...</td>\n",
       "      <td>3.01</td>\n",
       "      <td>-10.26</td>\n",
       "      <td>-5.83</td>\n",
       "      <td>-2.45</td>\n",
       "      <td>-5.83</td>\n",
       "      <td>-2.45</td>\n",
       "      <td>5.92</td>\n",
       "      <td>-2.45</td>\n",
       "      <td>5.92</td>\n",
       "      <td>8.30</td>\n",
       "    </tr>\n",
       "    <tr>\n",
       "      <th>208</th>\n",
       "      <td>2021-12-10</td>\n",
       "      <td>0.000178</td>\n",
       "      <td>0.000275</td>\n",
       "      <td>0.000176</td>\n",
       "      <td>0.000197</td>\n",
       "      <td>189.33</td>\n",
       "      <td>-2.39</td>\n",
       "      <td>-7.91</td>\n",
       "      <td>-1.56</td>\n",
       "      <td>-7.45</td>\n",
       "      <td>...</td>\n",
       "      <td>0.54</td>\n",
       "      <td>-6.53</td>\n",
       "      <td>-10.26</td>\n",
       "      <td>-5.83</td>\n",
       "      <td>-10.26</td>\n",
       "      <td>-5.83</td>\n",
       "      <td>-2.45</td>\n",
       "      <td>-5.83</td>\n",
       "      <td>-2.45</td>\n",
       "      <td>5.92</td>\n",
       "    </tr>\n",
       "    <tr>\n",
       "      <th>209</th>\n",
       "      <td>2021-12-11</td>\n",
       "      <td>0.000197</td>\n",
       "      <td>0.000201</td>\n",
       "      <td>0.000185</td>\n",
       "      <td>0.000188</td>\n",
       "      <td>32.39</td>\n",
       "      <td>-5.33</td>\n",
       "      <td>-11.77</td>\n",
       "      <td>-6.01</td>\n",
       "      <td>-11.51</td>\n",
       "      <td>...</td>\n",
       "      <td>-7.76</td>\n",
       "      <td>-12.40</td>\n",
       "      <td>-6.53</td>\n",
       "      <td>-10.26</td>\n",
       "      <td>-6.53</td>\n",
       "      <td>-10.26</td>\n",
       "      <td>-5.83</td>\n",
       "      <td>-10.26</td>\n",
       "      <td>-5.83</td>\n",
       "      <td>-2.45</td>\n",
       "    </tr>\n",
       "    <tr>\n",
       "      <th>...</th>\n",
       "      <td>...</td>\n",
       "      <td>...</td>\n",
       "      <td>...</td>\n",
       "      <td>...</td>\n",
       "      <td>...</td>\n",
       "      <td>...</td>\n",
       "      <td>...</td>\n",
       "      <td>...</td>\n",
       "      <td>...</td>\n",
       "      <td>...</td>\n",
       "      <td>...</td>\n",
       "      <td>...</td>\n",
       "      <td>...</td>\n",
       "      <td>...</td>\n",
       "      <td>...</td>\n",
       "      <td>...</td>\n",
       "      <td>...</td>\n",
       "      <td>...</td>\n",
       "      <td>...</td>\n",
       "      <td>...</td>\n",
       "      <td>...</td>\n",
       "    </tr>\n",
       "    <tr>\n",
       "      <th>1036</th>\n",
       "      <td>2024-03-17</td>\n",
       "      <td>0.000625</td>\n",
       "      <td>0.000641</td>\n",
       "      <td>0.000606</td>\n",
       "      <td>0.000625</td>\n",
       "      <td>59.00</td>\n",
       "      <td>-1.15</td>\n",
       "      <td>-2.75</td>\n",
       "      <td>-10.24</td>\n",
       "      <td>-18.23</td>\n",
       "      <td>...</td>\n",
       "      <td>-9.75</td>\n",
       "      <td>-7.96</td>\n",
       "      <td>-3.84</td>\n",
       "      <td>-5.88</td>\n",
       "      <td>-3.84</td>\n",
       "      <td>-5.88</td>\n",
       "      <td>2.54</td>\n",
       "      <td>-5.88</td>\n",
       "      <td>2.54</td>\n",
       "      <td>-16.78</td>\n",
       "    </tr>\n",
       "    <tr>\n",
       "      <th>1037</th>\n",
       "      <td>2024-03-18</td>\n",
       "      <td>0.000625</td>\n",
       "      <td>0.000630</td>\n",
       "      <td>0.000562</td>\n",
       "      <td>0.000568</td>\n",
       "      <td>53.04</td>\n",
       "      <td>-9.58</td>\n",
       "      <td>-10.68</td>\n",
       "      <td>-17.71</td>\n",
       "      <td>-25.81</td>\n",
       "      <td>...</td>\n",
       "      <td>9.68</td>\n",
       "      <td>-9.70</td>\n",
       "      <td>-7.96</td>\n",
       "      <td>-3.84</td>\n",
       "      <td>-7.96</td>\n",
       "      <td>-3.84</td>\n",
       "      <td>-5.88</td>\n",
       "      <td>-3.84</td>\n",
       "      <td>-5.88</td>\n",
       "      <td>2.54</td>\n",
       "    </tr>\n",
       "    <tr>\n",
       "      <th>1038</th>\n",
       "      <td>2024-03-19</td>\n",
       "      <td>0.000568</td>\n",
       "      <td>0.000582</td>\n",
       "      <td>0.000543</td>\n",
       "      <td>0.000580</td>\n",
       "      <td>48.80</td>\n",
       "      <td>-7.43</td>\n",
       "      <td>-8.02</td>\n",
       "      <td>-15.31</td>\n",
       "      <td>-24.37</td>\n",
       "      <td>...</td>\n",
       "      <td>-0.13</td>\n",
       "      <td>-9.06</td>\n",
       "      <td>-9.70</td>\n",
       "      <td>-7.96</td>\n",
       "      <td>-9.70</td>\n",
       "      <td>-7.96</td>\n",
       "      <td>-3.84</td>\n",
       "      <td>-7.96</td>\n",
       "      <td>-3.84</td>\n",
       "      <td>-5.88</td>\n",
       "    </tr>\n",
       "    <tr>\n",
       "      <th>1039</th>\n",
       "      <td>2024-03-20</td>\n",
       "      <td>0.000579</td>\n",
       "      <td>0.000594</td>\n",
       "      <td>0.000549</td>\n",
       "      <td>0.000576</td>\n",
       "      <td>44.68</td>\n",
       "      <td>-7.93</td>\n",
       "      <td>-7.91</td>\n",
       "      <td>-15.22</td>\n",
       "      <td>-24.83</td>\n",
       "      <td>...</td>\n",
       "      <td>1.17</td>\n",
       "      <td>-16.56</td>\n",
       "      <td>-9.06</td>\n",
       "      <td>-9.70</td>\n",
       "      <td>-9.06</td>\n",
       "      <td>-9.70</td>\n",
       "      <td>-7.96</td>\n",
       "      <td>-9.70</td>\n",
       "      <td>-7.96</td>\n",
       "      <td>-3.84</td>\n",
       "    </tr>\n",
       "    <tr>\n",
       "      <th>1040</th>\n",
       "      <td>2024-03-21</td>\n",
       "      <td>0.000576</td>\n",
       "      <td>0.000586</td>\n",
       "      <td>0.000565</td>\n",
       "      <td>0.000567</td>\n",
       "      <td>20.62</td>\n",
       "      <td>-9.10</td>\n",
       "      <td>-8.29</td>\n",
       "      <td>-16.05</td>\n",
       "      <td>-26.02</td>\n",
       "      <td>...</td>\n",
       "      <td>-3.35</td>\n",
       "      <td>-13.97</td>\n",
       "      <td>-16.56</td>\n",
       "      <td>-9.06</td>\n",
       "      <td>-16.56</td>\n",
       "      <td>-9.06</td>\n",
       "      <td>-9.70</td>\n",
       "      <td>-9.06</td>\n",
       "      <td>-9.70</td>\n",
       "      <td>-7.96</td>\n",
       "    </tr>\n",
       "  </tbody>\n",
       "</table>\n",
       "<p>836 rows × 333 columns</p>\n",
       "</div>"
      ],
      "text/plain": [
       "            time      open      high       low     close  volume  f_sma_10  \\\n",
       "205   2021-12-07  0.000192  0.000196  0.000182  0.000182   27.84    -13.82   \n",
       "206   2021-12-08  0.000183  0.000191  0.000181  0.000190   14.36     -9.41   \n",
       "207   2021-12-09  0.000190  0.000192  0.000177  0.000178   15.19    -13.71   \n",
       "208   2021-12-10  0.000178  0.000275  0.000176  0.000197  189.33     -2.39   \n",
       "209   2021-12-11  0.000197  0.000201  0.000185  0.000188   32.39     -5.33   \n",
       "...          ...       ...       ...       ...       ...     ...       ...   \n",
       "1036  2024-03-17  0.000625  0.000641  0.000606  0.000625   59.00     -1.15   \n",
       "1037  2024-03-18  0.000625  0.000630  0.000562  0.000568   53.04     -9.58   \n",
       "1038  2024-03-19  0.000568  0.000582  0.000543  0.000580   48.80     -7.43   \n",
       "1039  2024-03-20  0.000579  0.000594  0.000549  0.000576   44.68     -7.93   \n",
       "1040  2024-03-21  0.000576  0.000586  0.000565  0.000567   20.62     -9.10   \n",
       "\n",
       "      f_sma_20  f_sma_50  f_sma_100  ...  f_vwma_20_3_3  f_vwma_50_1_1  \\\n",
       "205     -14.76     -9.26     -15.03  ...           5.40          -2.45   \n",
       "206     -11.39     -5.45     -11.38  ...           3.37          -5.83   \n",
       "207     -16.74    -11.28     -16.84  ...           3.01         -10.26   \n",
       "208      -7.91     -1.56      -7.45  ...           0.54          -6.53   \n",
       "209     -11.77     -6.01     -11.51  ...          -7.76         -12.40   \n",
       "...        ...       ...        ...  ...            ...            ...   \n",
       "1036     -2.75    -10.24     -18.23  ...          -9.75          -7.96   \n",
       "1037    -10.68    -17.71     -25.81  ...           9.68          -9.70   \n",
       "1038     -8.02    -15.31     -24.37  ...          -0.13          -9.06   \n",
       "1039     -7.91    -15.22     -24.83  ...           1.17         -16.56   \n",
       "1040     -8.29    -16.05     -26.02  ...          -3.35         -13.97   \n",
       "\n",
       "      f_vwma_50_1_2  f_vwma_50_1_3  f_vwma_50_2_1  f_vwma_50_2_2  \\\n",
       "205            5.92           8.30           5.92           8.30   \n",
       "206           -2.45           5.92          -2.45           5.92   \n",
       "207           -5.83          -2.45          -5.83          -2.45   \n",
       "208          -10.26          -5.83         -10.26          -5.83   \n",
       "209           -6.53         -10.26          -6.53         -10.26   \n",
       "...             ...            ...            ...            ...   \n",
       "1036          -3.84          -5.88          -3.84          -5.88   \n",
       "1037          -7.96          -3.84          -7.96          -3.84   \n",
       "1038          -9.70          -7.96          -9.70          -7.96   \n",
       "1039          -9.06          -9.70          -9.06          -9.70   \n",
       "1040         -16.56          -9.06         -16.56          -9.06   \n",
       "\n",
       "      f_vwma_50_2_3  f_vwma_50_3_1  f_vwma_50_3_2  f_vwma_50_3_3  \n",
       "205            8.17           8.30           8.17           9.81  \n",
       "206            8.30           5.92           8.30           8.17  \n",
       "207            5.92          -2.45           5.92           8.30  \n",
       "208           -2.45          -5.83          -2.45           5.92  \n",
       "209           -5.83         -10.26          -5.83          -2.45  \n",
       "...             ...            ...            ...            ...  \n",
       "1036           2.54          -5.88           2.54         -16.78  \n",
       "1037          -5.88          -3.84          -5.88           2.54  \n",
       "1038          -3.84          -7.96          -3.84          -5.88  \n",
       "1039          -7.96          -9.70          -7.96          -3.84  \n",
       "1040          -9.70          -9.06          -9.70          -7.96  \n",
       "\n",
       "[836 rows x 333 columns]"
      ]
     },
     "execution_count": 16,
     "metadata": {},
     "output_type": "execute_result"
    }
   ],
   "source": [
    "s = 'INJBTC'\n",
    "folder = s[0]\n",
    "path = os.path.join(main_directory_crypto,folder,s + '.csv')\n",
    "path\n",
    "\n",
    "df = pd.read_csv(path)\n",
    "df.sort_values('time', inplace=True)\n",
    "df.drop_duplicates(inplace=True) # mostly stock data have duplicates\n",
    "df = generate_features(df)\n",
    "for col in df.columns:\n",
    "    if not col.startswith('f'):\n",
    "        continue    \n",
    "    for i in range(1,4):\n",
    "        df[f\"{col}_{i}\"] = df[col].shift(i)\n",
    "\n",
    "\n",
    "df.dropna(inplace=True)\n",
    "\n",
    "df"
   ]
  },
  {
   "cell_type": "markdown",
   "id": "2cf45c26-336c-4fcd-8564-7664b71000cd",
   "metadata": {},
   "source": [
    "## all files"
   ]
  },
  {
   "cell_type": "code",
   "execution_count": 8,
   "id": "3818937f-3c58-4640-ac59-b063e851ec39",
   "metadata": {},
   "outputs": [
    {
     "data": {
      "text/plain": [
       "947"
      ]
     },
     "execution_count": 8,
     "metadata": {},
     "output_type": "execute_result"
    }
   ],
   "source": [
    "def file_list(source):\n",
    "    res = []\n",
    "    for root, dirnames, filenames in os.walk(source):\n",
    "        for filename in filenames:\n",
    "            if filename.endswith('.csv'):\n",
    "                res.append(os.path.join(root, filename))\n",
    "    return res\n",
    "all_files = file_list(main_directory_crypto)\n",
    "\n",
    "# ['klines/crypto/R/RUNEUSDT.csv', ..]\n",
    "len(all_files)"
   ]
  },
  {
   "cell_type": "markdown",
   "id": "70d3eb1f-3eac-4cb2-a6ef-c2089f1bdb9c",
   "metadata": {},
   "source": [
    "## Train, test (BTC) pairs"
   ]
  },
  {
   "cell_type": "code",
   "execution_count": 166,
   "id": "5a6abcbb-3f1d-4b9e-baa5-11ba5a74df64",
   "metadata": {},
   "outputs": [
    {
     "name": "stderr",
     "output_type": "stream",
     "text": [
      "  0%|                                                                                                                                                  | 0/947 [00:00<?, ?it/s]/var/folders/6w/2zf1qgfd4dqg3bs98bn50z4m0000gn/T/ipykernel_54178/3836025416.py:36: DeprecationWarning: The default dtype for empty Series will be 'object' instead of 'float64' in a future version. Specify a dtype explicitly to silence this warning.\n",
      "  vwma_values = pd.Series(index=prices.index)\n",
      " 42%|█████████████████████████████████████████████████████████                                                                               | 397/947 [03:48<07:11,  1.28it/s]/var/folders/6w/2zf1qgfd4dqg3bs98bn50z4m0000gn/T/ipykernel_54178/3836025416.py:38: RuntimeWarning: invalid value encountered in scalar divide\n",
      "  vwma_values.iloc[i + window - 1] = (prices.iloc[i:i+window] * volumes.iloc[i:i+window]).sum() / volumes.iloc[i:i+window].sum()\n",
      "100%|████████████████████████████████████████████████████████████████████████████████████████████████████████████████████████████████████████| 947/947 [10:14<00:00,  1.54it/s]\n"
     ]
    }
   ],
   "source": [
    "def get_all_df():\n",
    "    X_train = pd.DataFrame()\n",
    "    X_test = pd.DataFrame()\n",
    "    for file in tqdm(all_files):\n",
    "        symbol = file.split('/')[-1].split('.')[0]\n",
    "        if 'DOWN' in symbol:\n",
    "            continue\n",
    "        # if not symbol.endswith('USDT'):\n",
    "        #     continue\n",
    "        df = pd.read_csv(file)\n",
    "        df['symbol'] = symbol\n",
    "        df.sort_values('time', inplace=True)\n",
    "        \n",
    "        shape_before = df.shape[0]\n",
    "        df.drop_duplicates(inplace=True) # mostly stock data have duplicates\n",
    "        shape_after = df.shape[0] \n",
    "        \n",
    "        diff = shape_before - shape_after\n",
    "        if diff > 0:\n",
    "            print(f\"{symbol} - {diff} duplicates\")\n",
    "        df = generate_features(df)\n",
    "        \n",
    "        X_test = pd.concat([X_test, df.tail(1)])\n",
    "        \n",
    "        df.dropna(inplace=True)\n",
    "        if not df.empty:\n",
    "            # df.drop(['time', 'open', 'high', 'low','close','volume'], axis=1, inplace=True)\n",
    "            # df.drop(['open', 'high', 'low'], axis=1, inplace=True)\n",
    "            X_train = pd.concat([X_train, df])\n",
    "    \n",
    "    return X_train, X_test\n",
    "\n",
    "df_train, df_test = get_all_df()\n",
    "\n",
    "\n",
    "# df_test.dropna(inplace=True)"
   ]
  },
  {
   "cell_type": "code",
   "execution_count": 167,
   "id": "db9952ec-9c87-41dc-a016-828eebe1f0de",
   "metadata": {},
   "outputs": [],
   "source": [
    "# Raw copies\n",
    "raw_train = df_train.copy()\n",
    "raw_test = df_test.copy()"
   ]
  },
  {
   "cell_type": "code",
   "execution_count": 168,
   "id": "46df2973-65fa-42bd-b9d6-693bc32e19d9",
   "metadata": {},
   "outputs": [],
   "source": [
    "# Feature columns\n",
    "feature_cols = [col for col in df_train.columns if col.startswith(\"f_\")]"
   ]
  },
  {
   "cell_type": "code",
   "execution_count": 169,
   "id": "06eea5f5-f057-4291-8443-eea69c180a45",
   "metadata": {},
   "outputs": [],
   "source": [
    "# MinMax Scale\n",
    "df_train[feature_cols] = scaler.fit_transform(df_train[feature_cols])\n",
    "df_test[feature_cols] = scaler.fit_transform(df_test[feature_cols])"
   ]
  },
  {
   "cell_type": "code",
   "execution_count": 170,
   "id": "11e4063d-c420-480f-8313-35508327470b",
   "metadata": {},
   "outputs": [],
   "source": [
    "# Train\n",
    "df_train.reset_index(drop=True, inplace=True)\n",
    "\n",
    "# Test\n",
    "max_time = df_test['time'].mode()[0]\n",
    "df_test = df_test[df_test['time'] == max_time].reset_index(drop=True)\n",
    "# remove nan rows for any feature columns\n",
    "ind = df_test[feature_cols].dropna().index.values\n",
    "df_test = df_test.iloc[ind]\n",
    "\n",
    "# Val\n",
    "# yesterday data for validation\n",
    "yesterday = (datetime.datetime.strptime(max_time, '%Y-%m-%d') - datetime.timedelta(days=1)).strftime('%Y-%m-%d')\n",
    "df_yesterday = df_train[df_train['time'] == yesterday]\n",
    "df_train = df_train.drop(index=df_yesterday.index)"
   ]
  },
  {
   "cell_type": "code",
   "execution_count": 171,
   "id": "7d8c14c3-7b08-4d3c-91b9-80057e2982cf",
   "metadata": {},
   "outputs": [
    {
     "data": {
      "text/plain": [
       "((554546, 109), (603, 109), (603, 109))"
      ]
     },
     "execution_count": 171,
     "metadata": {},
     "output_type": "execute_result"
    }
   ],
   "source": [
    "df_train.shape, df_test.shape, df_yesterday.shape"
   ]
  },
  {
   "cell_type": "markdown",
   "id": "de72cc2d-044b-4f4c-a87b-394608853721",
   "metadata": {},
   "source": [
    "# EDA"
   ]
  },
  {
   "cell_type": "markdown",
   "id": "2700feb4-c162-4aa5-a141-c9fa6f5cd0a5",
   "metadata": {},
   "source": [
    "## Transform data"
   ]
  },
  {
   "cell_type": "code",
   "execution_count": null,
   "id": "cd6496e5-d440-4050-9bc2-5db4e9ff7fa5",
   "metadata": {},
   "outputs": [],
   "source": [
    "def transform(df):\n",
    "    \n",
    "    for col in features_cols + ['target_reg']:\n",
    "        df[col] = df[col].apply(lambda x: np.log1p(abs(x)) * (-1 if x < 0 else 1))\n",
    "    return df\n",
    "# transform target\n",
    "# t['target_reg'] = t['target_reg'].apply(lambda x: np.log1p(abs(x)) * (-1 if x < 0 else 1))\n",
    "\n",
    "# To transform back\n",
    "# t['f_sma_10_exp'] = t['f_sma_10_log'].apply(lambda x: np.expm1(abs(x)) * (-1 if x < 0 else 1))"
   ]
  },
  {
   "cell_type": "code",
   "execution_count": null,
   "id": "04e2ce17-1917-456f-96d4-a2a9f92a23dc",
   "metadata": {},
   "outputs": [],
   "source": [
    "for df in [df_train, df_yesterday, df_test]:\n",
    "    df = transform(df)"
   ]
  },
  {
   "cell_type": "code",
   "execution_count": null,
   "id": "f4ae9bbf-781b-44c1-aca1-9042ccc59776",
   "metadata": {},
   "outputs": [],
   "source": [
    "df_train[features_cols].describe()"
   ]
  },
  {
   "cell_type": "code",
   "execution_count": null,
   "id": "a50c136e-251e-4b4c-afe4-a70dd9755b15",
   "metadata": {},
   "outputs": [],
   "source": [
    "df_train.head()"
   ]
  },
  {
   "cell_type": "code",
   "execution_count": null,
   "id": "2949ded3-687e-4a07-9197-6d63be46391b",
   "metadata": {},
   "outputs": [],
   "source": [
    "df_train.columns"
   ]
  },
  {
   "cell_type": "code",
   "execution_count": 96,
   "id": "7e5dd8cc-e344-40a5-a591-1373bf2c5e0c",
   "metadata": {},
   "outputs": [
    {
     "data": {
      "text/plain": [
       "<AxesSubplot: >"
      ]
     },
     "execution_count": 96,
     "metadata": {},
     "output_type": "execute_result"
    },
    {
     "data": {
      "image/png": "[encoded data removed]",
      "text/plain": [
       "<Figure size 640x480 with 1 Axes>"
      ]
     },
     "metadata": {},
     "output_type": "display_data"
    }
   ],
   "source": [
    "# Distribution check\n",
    "df_train['f_vwma_50'].hist(bins=100)"
   ]
  },
  {
   "cell_type": "markdown",
   "id": "2cf044d0-1cdf-405e-979f-444be2b04869",
   "metadata": {},
   "source": [
    "# Catboost classifier"
   ]
  },
  {
   "cell_type": "markdown",
   "id": "5b1555b8-83a3-4663-99e4-ec73cfc6e95c",
   "metadata": {},
   "source": [
    "## Train test split data"
   ]
  },
  {
   "cell_type": "code",
   "execution_count": 172,
   "id": "c65e81a9-c231-41e6-bec7-9b5e6a73c012",
   "metadata": {},
   "outputs": [],
   "source": [
    "X = df_train[feature_cols]\n",
    "y = df_train[['target_clf', 'target_reg']]\n",
    "target_clf = 'target_clf'\n",
    "target_reg = 'target_reg'\n",
    "X_train, X_test, y_train, y_test = train_test_split(X, y, test_size=0.2, random_state=42)"
   ]
  },
  {
   "cell_type": "code",
   "execution_count": 174,
   "id": "3c0c172a-ba77-4940-a76a-f869c940a7ac",
   "metadata": {},
   "outputs": [
    {
     "name": "stdout",
     "output_type": "stream",
     "text": [
      "Accuracy: 0.60\n"
     ]
    }
   ],
   "source": [
    "# Catboost classifier\n",
    "# jupyter nbextension enable --py widgetsnbextension\n",
    "clf = CatBoostClassifier(iterations=1000, \n",
    "                         depth=8, \n",
    "                         learning_rate=0.05, \n",
    "                         loss_function='Logloss',\n",
    "                         random_seed=42)\n",
    "clf.fit(X_train, y_train[target_clf], eval_set=(X_test, y_test[target_clf]), verbose=False)\n",
    "\n",
    "y_clf_pred = clf.predict(X_test)\n",
    "accuracy = accuracy_score(y_test[target_clf], y_clf_pred)\n",
    "print(f'Accuracy: {accuracy:.2f}')"
   ]
  },
  {
   "cell_type": "code",
   "execution_count": 100,
   "id": "cc90c14a-3562-4c0c-be67-e82b9b239162",
   "metadata": {},
   "outputs": [
    {
     "name": "stdout",
     "output_type": "stream",
     "text": [
      "              precision    recall  f1-score   support\n",
      "\n",
      "         0.0       0.63      0.65      0.64     25668\n",
      "         1.0       0.68      0.65      0.66     28530\n",
      "\n",
      "    accuracy                           0.65     54198\n",
      "   macro avg       0.65      0.65      0.65     54198\n",
      "weighted avg       0.65      0.65      0.65     54198\n",
      "\n"
     ]
    }
   ],
   "source": [
    "print(classification_report(y_clf_pred, y_test[target_clf]))"
   ]
  },
  {
   "cell_type": "code",
   "execution_count": 101,
   "id": "b90c25c0-474c-4d70-91d5-8936c82679f8",
   "metadata": {},
   "outputs": [
    {
     "name": "stdout",
     "output_type": "stream",
     "text": [
      "[[16785  8883]\n",
      " [10006 18524]]\n"
     ]
    }
   ],
   "source": [
    "print(confusion_matrix(y_clf_pred, y_test[target_clf]))"
   ]
  },
  {
   "cell_type": "code",
   "execution_count": 134,
   "id": "11a7096c-58ce-4cdc-bcd9-9f0a24cae4c1",
   "metadata": {},
   "outputs": [],
   "source": [
    "# Yesterday validation check\n",
    "y_pred_yesterday = clf.predict(df_yesterday[feature_cols])"
   ]
  },
  {
   "cell_type": "code",
   "execution_count": 104,
   "id": "6efdc60c-603b-491a-a67e-a8b4063f36f0",
   "metadata": {},
   "outputs": [
    {
     "name": "stdout",
     "output_type": "stream",
     "text": [
      "Accuracy: 0.61\n"
     ]
    }
   ],
   "source": [
    "accuracy = accuracy_score(df_yesterday[target_clf], y_pred_yesterday)\n",
    "print(f'Accuracy: {accuracy:.2f}')"
   ]
  },
  {
   "cell_type": "code",
   "execution_count": 105,
   "id": "6279ef80-9170-4e6e-965a-d1314e6e62cd",
   "metadata": {},
   "outputs": [
    {
     "name": "stdout",
     "output_type": "stream",
     "text": [
      "[[191  79]\n",
      " [ 54  15]]\n"
     ]
    }
   ],
   "source": [
    "print(confusion_matrix(y_pred_yesterday, df_yesterday[target_clf]))"
   ]
  },
  {
   "cell_type": "code",
   "execution_count": 135,
   "id": "faa9f22a-4f47-4cb5-84ad-c0fe0ff8f403",
   "metadata": {},
   "outputs": [],
   "source": [
    "df_yesterday['pred_clf'] = y_pred_yesterday"
   ]
  },
  {
   "cell_type": "code",
   "execution_count": null,
   "id": "32f6083c-f0ef-4612-9cea-7ac928db07a4",
   "metadata": {},
   "outputs": [],
   "source": [
    "\n",
    "\n",
    "\n"
   ]
  },
  {
   "cell_type": "code",
   "execution_count": 116,
   "id": "59f1b160-1bbd-4d43-863a-28959246626d",
   "metadata": {},
   "outputs": [
    {
     "name": "stdout",
     "output_type": "stream",
     "text": [
      "Accuracy: 0.55\n"
     ]
    }
   ],
   "source": [
    "# Logistic Regression\n",
    "from sklearn.linear_model import LogisticRegression\n",
    "\n",
    "# Train the logistic regression model\n",
    "LR = LogisticRegression(max_iter=1000)\n",
    "LR.fit(X_train, y_train[target_clf])\n",
    "\n",
    "# Get probability estimates for the test set\n",
    "y_prob = LR.predict_proba(X_test)\n",
    "y_prob_0 = y_prob[:, 0]  # Probability estimates for class 0\n",
    "y_prob_1 = y_prob[:, 1]  # Probability estimates for class 1\n",
    "y_pred_LR = LR.predict(X_test)\n",
    "accuracy = accuracy_score(y_test[target_clf], y_pred_LR)\n",
    "print(f'Accuracy: {accuracy:.2f}')\n"
   ]
  },
  {
   "cell_type": "markdown",
   "id": "ac999da7-a6b2-4cb2-80ec-4d3ca1cd8db6",
   "metadata": {},
   "source": [
    "# Regressor"
   ]
  },
  {
   "cell_type": "code",
   "execution_count": 119,
   "id": "5939775c-9388-4043-8379-1298f9a8f7f9",
   "metadata": {},
   "outputs": [
    {
     "name": "stdout",
     "output_type": "stream",
     "text": [
      "Mean Squared Error: 38558153.84\n"
     ]
    }
   ],
   "source": [
    "# jupyter nbextension enable --py widgetsnbextension\n",
    "reg = CatBoostRegressor(iterations=1000, depth=6, learning_rate=0.1, loss_function='RMSE', random_seed=42)\n",
    "reg.fit(X_train[feature_cols], y_train[target_reg], verbose=False)\n",
    "\n",
    "y_reg_pred = reg.predict(X_test[feature_cols])\n",
    "\n",
    "mse = mean_squared_error(y_test[target_reg], y_reg_pred)\n",
    "print(f'Mean Squared Error: {mse:.2f}')\n",
    "\n"
   ]
  },
  {
   "cell_type": "code",
   "execution_count": 130,
   "id": "8bad33d5-59b7-4c0d-940d-f36ae8d90b43",
   "metadata": {},
   "outputs": [
    {
     "name": "stdout",
     "output_type": "stream",
     "text": [
      "Mean Squared Error: 578.51\n"
     ]
    }
   ],
   "source": [
    "# yesterday prediction\n",
    "y_pred_yesterday = reg.predict(df_yesterday[feature_cols])\n",
    "mse = mean_squared_error(df_yesterday[target_reg], y_pred_yesterday)\n",
    "print(f'Mean Squared Error: {mse:.2f}')\n"
   ]
  },
  {
   "cell_type": "code",
   "execution_count": 132,
   "id": "96fdd305-144b-43fe-8671-fe4f63ecf9b0",
   "metadata": {},
   "outputs": [],
   "source": [
    "df_yesterday['pred_reg'] = y_pred_yesterday"
   ]
  },
  {
   "cell_type": "code",
   "execution_count": null,
   "id": "1a7bfbd7-26c8-494b-a397-2313140dbb0d",
   "metadata": {},
   "outputs": [],
   "source": []
  },
  {
   "cell_type": "code",
   "execution_count": null,
   "id": "bdd42b81-a03a-4c0c-bd4f-e8d848ce2369",
   "metadata": {},
   "outputs": [],
   "source": []
  },
  {
   "cell_type": "markdown",
   "id": "e4eb002f-7a6b-4727-832a-1c9245749c0b",
   "metadata": {},
   "source": [
    "# Validation check for yesterday predictions"
   ]
  },
  {
   "cell_type": "code",
   "execution_count": 142,
   "id": "2d05df27-cebe-44ef-8922-eaefa338fa6a",
   "metadata": {},
   "outputs": [],
   "source": [
    "df_yesterday = df_yesterday[((df_yesterday['pred_clf'] == 1) & (df_yesterday['pred_reg'] >= 0)) | ((df_yesterday['pred_clf'] == 0) & (df_yesterday['pred_reg'] < 0))]"
   ]
  },
  {
   "cell_type": "code",
   "execution_count": 143,
   "id": "7e2c0a29-da52-4b55-b961-5818f7bf4c30",
   "metadata": {},
   "outputs": [
    {
     "name": "stdout",
     "output_type": "stream",
     "text": [
      "Accuracy: 0.57\n"
     ]
    }
   ],
   "source": [
    "accuracy = accuracy_score(df_yesterday[target_clf], df_yesterday['pred_clf'])\n",
    "print(f'Accuracy: {accuracy:.2f}')"
   ]
  },
  {
   "cell_type": "code",
   "execution_count": 144,
   "id": "f5f23464-291a-4f35-a6ca-0296866d8cd4",
   "metadata": {},
   "outputs": [
    {
     "name": "stdout",
     "output_type": "stream",
     "text": [
      "Mean Squared Error: 501.73\n"
     ]
    }
   ],
   "source": [
    "mse = mean_squared_error(df_yesterday[target_reg], df_yesterday['pred_reg'])\n",
    "print(f'Mean Squared Error: {mse:.2f}')"
   ]
  },
  {
   "cell_type": "code",
   "execution_count": null,
   "id": "47640977-0f8c-4b42-a636-d4745310aa7f",
   "metadata": {},
   "outputs": [],
   "source": [
    "from pymongo import MongoClient\n",
    "import _config\n",
    "\n",
    "mongo = MongoClient(_config.MONGO_URL)\n",
    "db = mongo[_config.MONGO_DBNAME]"
   ]
  },
  {
   "cell_type": "code",
   "execution_count": null,
   "id": "d32d2cf7-6239-48bf-af9a-cb7da242447b",
   "metadata": {},
   "outputs": [],
   "source": [
    "# Yesterday prediction and results to mongo\n",
    "df_yest_mongo = df_yesterday[['symbol','target_reg', 'pred_reg']].rename(columns={'pred_reg': 'pred', 'target_reg': 'actual'})\n",
    "df_yest_mongo['pred'] = df_yest_mongo['pred'].apply(lambda x: np.expm1(abs(x)) * (-1 if x < 0 else 1))\n",
    "df_yest_mongo['actual'] = df_yest_mongo['actual'].apply(lambda x: np.expm1(abs(x)) * (-1 if x < 0 else 1))\n",
    "\n",
    "d = {\n",
    "    'time': yesterday,\n",
    "    'data': df_yest_mongo.to_dict('records')\n",
    "}\n",
    "db.predictions.insert_one(d)"
   ]
  },
  {
   "cell_type": "code",
   "execution_count": null,
   "id": "51a4dd4b-90a1-4904-b013-5222d45e76c3",
   "metadata": {},
   "outputs": [],
   "source": [
    "# Prediction for tomorrow\n",
    "df_test['clf'] = clf.predict(df_test[features_cols])\n",
    "df_test['reg'] = reg.predict(df_test[features_cols])\n",
    "df_tomorrow = df_test[((df_test['clf'] == 1) & (df_test['reg'] >= 0)) | ((df_test['clf'] == 0) & (df_test['reg'] < 0))]\n",
    "df_tomorrow = df_tomorrow[['symbol', 'reg']].rename(columns={\n",
    "    'reg': 'pred'\n",
    "})\n",
    "\n",
    "df_tomorrow['pred'] = df_tomorrow['pred'].apply(lambda x: np.expm1(abs(x)) * (-1 if x < 0 else 1))\n",
    "\n",
    "d = {\n",
    "    'time': max_time,\n",
    "    'data': df_tomorrow.to_dict('records')\n",
    "}\n",
    "db.predictions.insert_one(d)"
   ]
  },
  {
   "cell_type": "code",
   "execution_count": null,
   "id": "f30eefc9-5ba9-48ad-9b13-dc0f40d3fa0b",
   "metadata": {},
   "outputs": [],
   "source": []
  },
  {
   "cell_type": "code",
   "execution_count": null,
   "id": "3119f618-e0f6-486e-bd5c-4ec58e923155",
   "metadata": {},
   "outputs": [],
   "source": []
  },
  {
   "cell_type": "code",
   "execution_count": null,
   "id": "3e14c275-b25e-4275-a9c9-41d7974248f6",
   "metadata": {},
   "outputs": [],
   "source": []
  },
  {
   "cell_type": "code",
   "execution_count": null,
   "id": "b7b33eb2-bdb9-46d9-930d-063f948b0327",
   "metadata": {},
   "outputs": [],
   "source": [
    "# Start over again with 20 most important features"
   ]
  },
  {
   "cell_type": "code",
   "execution_count": 153,
   "id": "b3be9c14-d349-4eac-8a14-3d7555b75593",
   "metadata": {},
   "outputs": [
    {
     "name": "stdout",
     "output_type": "stream",
     "text": [
      "Top 20 most important features:\n",
      "['f_body' 'f_body_1' 'f_body_3' 'f_body_2' 'f_upwick' 'f_upwick_2'\n",
      " 'f_upwick_1' 'f_sma_10_3' 'f_range_3' 'f_sma_10' 'f_upwick_3'\n",
      " 'f_sma_20_3' 'f_downwick_1' 'f_range' 'f_range_2' 'f_downwick_3'\n",
      " 'f_atr_7' 'f_downwick' 'f_ema_10' 'f_sma_20']\n"
     ]
    },
    {
     "data": {
      "image/png": "[encoded data removed]",
      "text/plain": [
       "<Figure size 1000x600 with 1 Axes>"
      ]
     },
     "metadata": {},
     "output_type": "display_data"
    }
   ],
   "source": [
    "# Get Feature Importances\n",
    "# importance scores\n",
    "feature_importance = clf.get_feature_importance(prettified=True)\n",
    "\n",
    "feature_importance = feature_importance.sort_values(by='Importances', ascending=False)\n",
    "\n",
    "\n",
    "# Print the top 20 most important features\n",
    "print(\"Top 20 most important features:\")\n",
    "top_features = feature_importance.head(20)['Feature Id'].values\n",
    "print(top_features)\n",
    "\n",
    "# Plot the top 20 most important features\n",
    "plt.figure(figsize=(10, 6))\n",
    "plt.barh(range(20), feature_importance['Importances'].head(20), align='center')\n",
    "plt.yticks(range(20), feature_importance['Feature Id'].head(20))\n",
    "plt.xlabel('Importances')\n",
    "plt.title('Top 20 Most Important Features')\n",
    "plt.show()\n",
    "\n",
    "\n"
   ]
  },
  {
   "cell_type": "code",
   "execution_count": 161,
   "id": "9cb05a5f-4382-4042-85fc-20c529dab493",
   "metadata": {},
   "outputs": [],
   "source": [
    "X = df_train[top_features]\n",
    "y = df_train[['target_clf', 'target_reg']]\n",
    "target_clf = 'target_clf'\n",
    "target_reg = 'target_reg'\n",
    "X_train, X_test, y_train, y_test = train_test_split(X, y, test_size=0.2, random_state=42)"
   ]
  },
  {
   "cell_type": "code",
   "execution_count": 165,
   "id": "3ad6f4ec-06f0-4a86-97b1-b9bc8970bd2f",
   "metadata": {},
   "outputs": [
    {
     "ename": "KeyboardInterrupt",
     "evalue": "",
     "output_type": "error",
     "traceback": [
      "\u001b[0;31m---------------------------------------------------------------------------\u001b[0m",
      "\u001b[0;31mKeyboardInterrupt\u001b[0m                         Traceback (most recent call last)",
      "Cell \u001b[0;32mIn[165], line 7\u001b[0m\n\u001b[1;32m      1\u001b[0m \u001b[38;5;66;03m# Classifier\u001b[39;00m\n\u001b[1;32m      2\u001b[0m clf \u001b[38;5;241m=\u001b[39m CatBoostClassifier(iterations\u001b[38;5;241m=\u001b[39m\u001b[38;5;241m1000\u001b[39m, \n\u001b[1;32m      3\u001b[0m                          depth\u001b[38;5;241m=\u001b[39m\u001b[38;5;241m16\u001b[39m, \n\u001b[1;32m      4\u001b[0m                          learning_rate\u001b[38;5;241m=\u001b[39m\u001b[38;5;241m0.05\u001b[39m, \n\u001b[1;32m      5\u001b[0m                          loss_function\u001b[38;5;241m=\u001b[39m\u001b[38;5;124m'\u001b[39m\u001b[38;5;124mLogloss\u001b[39m\u001b[38;5;124m'\u001b[39m,\n\u001b[1;32m      6\u001b[0m                          random_seed\u001b[38;5;241m=\u001b[39m\u001b[38;5;241m42\u001b[39m)\n\u001b[0;32m----> 7\u001b[0m \u001b[43mclf\u001b[49m\u001b[38;5;241;43m.\u001b[39;49m\u001b[43mfit\u001b[49m\u001b[43m(\u001b[49m\u001b[43mX_train\u001b[49m\u001b[43m,\u001b[49m\u001b[43m \u001b[49m\u001b[43my_train\u001b[49m\u001b[43m[\u001b[49m\u001b[43mtarget_clf\u001b[49m\u001b[43m]\u001b[49m\u001b[43m,\u001b[49m\u001b[43m \u001b[49m\u001b[43meval_set\u001b[49m\u001b[38;5;241;43m=\u001b[39;49m\u001b[43m(\u001b[49m\u001b[43mX_test\u001b[49m\u001b[43m,\u001b[49m\u001b[43m \u001b[49m\u001b[43my_test\u001b[49m\u001b[43m[\u001b[49m\u001b[43mtarget_clf\u001b[49m\u001b[43m]\u001b[49m\u001b[43m)\u001b[49m\u001b[43m,\u001b[49m\u001b[43m \u001b[49m\u001b[43mverbose\u001b[49m\u001b[38;5;241;43m=\u001b[39;49m\u001b[38;5;28;43;01mFalse\u001b[39;49;00m\u001b[43m)\u001b[49m\n\u001b[1;32m      9\u001b[0m y_clf_pred \u001b[38;5;241m=\u001b[39m clf\u001b[38;5;241m.\u001b[39mpredict(X_test)\n\u001b[1;32m     10\u001b[0m accuracy \u001b[38;5;241m=\u001b[39m accuracy_score(y_test[target_clf], y_clf_pred)\n",
      "File \u001b[0;32m~/projects/gsheet/venv/lib/python3.9/site-packages/catboost/core.py:5201\u001b[0m, in \u001b[0;36mCatBoostClassifier.fit\u001b[0;34m(self, X, y, cat_features, text_features, embedding_features, sample_weight, baseline, use_best_model, eval_set, verbose, logging_level, plot, plot_file, column_description, verbose_eval, metric_period, silent, early_stopping_rounds, save_snapshot, snapshot_file, snapshot_interval, init_model, callbacks, log_cout, log_cerr)\u001b[0m\n\u001b[1;32m   5198\u001b[0m \u001b[38;5;28;01mif\u001b[39;00m \u001b[38;5;124m'\u001b[39m\u001b[38;5;124mloss_function\u001b[39m\u001b[38;5;124m'\u001b[39m \u001b[38;5;129;01min\u001b[39;00m params:\n\u001b[1;32m   5199\u001b[0m     CatBoostClassifier\u001b[38;5;241m.\u001b[39m_check_is_compatible_loss(params[\u001b[38;5;124m'\u001b[39m\u001b[38;5;124mloss_function\u001b[39m\u001b[38;5;124m'\u001b[39m])\n\u001b[0;32m-> 5201\u001b[0m \u001b[38;5;28;43mself\u001b[39;49m\u001b[38;5;241;43m.\u001b[39;49m\u001b[43m_fit\u001b[49m\u001b[43m(\u001b[49m\u001b[43mX\u001b[49m\u001b[43m,\u001b[49m\u001b[43m \u001b[49m\u001b[43my\u001b[49m\u001b[43m,\u001b[49m\u001b[43m \u001b[49m\u001b[43mcat_features\u001b[49m\u001b[43m,\u001b[49m\u001b[43m \u001b[49m\u001b[43mtext_features\u001b[49m\u001b[43m,\u001b[49m\u001b[43m \u001b[49m\u001b[43membedding_features\u001b[49m\u001b[43m,\u001b[49m\u001b[43m \u001b[49m\u001b[38;5;28;43;01mNone\u001b[39;49;00m\u001b[43m,\u001b[49m\u001b[43m \u001b[49m\u001b[43msample_weight\u001b[49m\u001b[43m,\u001b[49m\u001b[43m \u001b[49m\u001b[38;5;28;43;01mNone\u001b[39;49;00m\u001b[43m,\u001b[49m\u001b[43m \u001b[49m\u001b[38;5;28;43;01mNone\u001b[39;49;00m\u001b[43m,\u001b[49m\u001b[43m \u001b[49m\u001b[38;5;28;43;01mNone\u001b[39;49;00m\u001b[43m,\u001b[49m\u001b[43m \u001b[49m\u001b[38;5;28;43;01mNone\u001b[39;49;00m\u001b[43m,\u001b[49m\u001b[43m \u001b[49m\u001b[43mbaseline\u001b[49m\u001b[43m,\u001b[49m\u001b[43m \u001b[49m\u001b[43muse_best_model\u001b[49m\u001b[43m,\u001b[49m\n\u001b[1;32m   5202\u001b[0m \u001b[43m          \u001b[49m\u001b[43meval_set\u001b[49m\u001b[43m,\u001b[49m\u001b[43m \u001b[49m\u001b[43mverbose\u001b[49m\u001b[43m,\u001b[49m\u001b[43m \u001b[49m\u001b[43mlogging_level\u001b[49m\u001b[43m,\u001b[49m\u001b[43m \u001b[49m\u001b[43mplot\u001b[49m\u001b[43m,\u001b[49m\u001b[43m \u001b[49m\u001b[43mplot_file\u001b[49m\u001b[43m,\u001b[49m\u001b[43m \u001b[49m\u001b[43mcolumn_description\u001b[49m\u001b[43m,\u001b[49m\u001b[43m \u001b[49m\u001b[43mverbose_eval\u001b[49m\u001b[43m,\u001b[49m\u001b[43m \u001b[49m\u001b[43mmetric_period\u001b[49m\u001b[43m,\u001b[49m\n\u001b[1;32m   5203\u001b[0m \u001b[43m          \u001b[49m\u001b[43msilent\u001b[49m\u001b[43m,\u001b[49m\u001b[43m \u001b[49m\u001b[43mearly_stopping_rounds\u001b[49m\u001b[43m,\u001b[49m\u001b[43m \u001b[49m\u001b[43msave_snapshot\u001b[49m\u001b[43m,\u001b[49m\u001b[43m \u001b[49m\u001b[43msnapshot_file\u001b[49m\u001b[43m,\u001b[49m\u001b[43m \u001b[49m\u001b[43msnapshot_interval\u001b[49m\u001b[43m,\u001b[49m\u001b[43m \u001b[49m\u001b[43minit_model\u001b[49m\u001b[43m,\u001b[49m\u001b[43m \u001b[49m\u001b[43mcallbacks\u001b[49m\u001b[43m,\u001b[49m\u001b[43m \u001b[49m\u001b[43mlog_cout\u001b[49m\u001b[43m,\u001b[49m\u001b[43m \u001b[49m\u001b[43mlog_cerr\u001b[49m\u001b[43m)\u001b[49m\n\u001b[1;32m   5204\u001b[0m \u001b[38;5;28;01mreturn\u001b[39;00m \u001b[38;5;28mself\u001b[39m\n",
      "File \u001b[0;32m~/projects/gsheet/venv/lib/python3.9/site-packages/catboost/core.py:2396\u001b[0m, in \u001b[0;36mCatBoost._fit\u001b[0;34m(self, X, y, cat_features, text_features, embedding_features, pairs, sample_weight, group_id, group_weight, subgroup_id, pairs_weight, baseline, use_best_model, eval_set, verbose, logging_level, plot, plot_file, column_description, verbose_eval, metric_period, silent, early_stopping_rounds, save_snapshot, snapshot_file, snapshot_interval, init_model, callbacks, log_cout, log_cerr)\u001b[0m\n\u001b[1;32m   2393\u001b[0m allow_clear_pool \u001b[38;5;241m=\u001b[39m train_params[\u001b[38;5;124m\"\u001b[39m\u001b[38;5;124mallow_clear_pool\u001b[39m\u001b[38;5;124m\"\u001b[39m]\n\u001b[1;32m   2395\u001b[0m \u001b[38;5;28;01mwith\u001b[39;00m plot_wrapper(plot, plot_file, \u001b[38;5;124m'\u001b[39m\u001b[38;5;124mTraining plots\u001b[39m\u001b[38;5;124m'\u001b[39m, [_get_train_dir(\u001b[38;5;28mself\u001b[39m\u001b[38;5;241m.\u001b[39mget_params())]):\n\u001b[0;32m-> 2396\u001b[0m     \u001b[38;5;28;43mself\u001b[39;49m\u001b[38;5;241;43m.\u001b[39;49m\u001b[43m_train\u001b[49m\u001b[43m(\u001b[49m\n\u001b[1;32m   2397\u001b[0m \u001b[43m        \u001b[49m\u001b[43mtrain_pool\u001b[49m\u001b[43m,\u001b[49m\n\u001b[1;32m   2398\u001b[0m \u001b[43m        \u001b[49m\u001b[43mtrain_params\u001b[49m\u001b[43m[\u001b[49m\u001b[38;5;124;43m\"\u001b[39;49m\u001b[38;5;124;43meval_sets\u001b[39;49m\u001b[38;5;124;43m\"\u001b[39;49m\u001b[43m]\u001b[49m\u001b[43m,\u001b[49m\n\u001b[1;32m   2399\u001b[0m \u001b[43m        \u001b[49m\u001b[43mparams\u001b[49m\u001b[43m,\u001b[49m\n\u001b[1;32m   2400\u001b[0m \u001b[43m        \u001b[49m\u001b[43mallow_clear_pool\u001b[49m\u001b[43m,\u001b[49m\n\u001b[1;32m   2401\u001b[0m \u001b[43m        \u001b[49m\u001b[43mtrain_params\u001b[49m\u001b[43m[\u001b[49m\u001b[38;5;124;43m\"\u001b[39;49m\u001b[38;5;124;43minit_model\u001b[39;49m\u001b[38;5;124;43m\"\u001b[39;49m\u001b[43m]\u001b[49m\n\u001b[1;32m   2402\u001b[0m \u001b[43m    \u001b[49m\u001b[43m)\u001b[49m\n\u001b[1;32m   2404\u001b[0m \u001b[38;5;66;03m# Have property feature_importance possibly set\u001b[39;00m\n\u001b[1;32m   2405\u001b[0m loss \u001b[38;5;241m=\u001b[39m \u001b[38;5;28mself\u001b[39m\u001b[38;5;241m.\u001b[39m_object\u001b[38;5;241m.\u001b[39m_get_loss_function_name()\n",
      "File \u001b[0;32m~/projects/gsheet/venv/lib/python3.9/site-packages/catboost/core.py:1776\u001b[0m, in \u001b[0;36m_CatBoostBase._train\u001b[0;34m(self, train_pool, test_pool, params, allow_clear_pool, init_model)\u001b[0m\n\u001b[1;32m   1775\u001b[0m \u001b[38;5;28;01mdef\u001b[39;00m \u001b[38;5;21m_train\u001b[39m(\u001b[38;5;28mself\u001b[39m, train_pool, test_pool, params, allow_clear_pool, init_model):\n\u001b[0;32m-> 1776\u001b[0m     \u001b[38;5;28;43mself\u001b[39;49m\u001b[38;5;241;43m.\u001b[39;49m\u001b[43m_object\u001b[49m\u001b[38;5;241;43m.\u001b[39;49m\u001b[43m_train\u001b[49m\u001b[43m(\u001b[49m\u001b[43mtrain_pool\u001b[49m\u001b[43m,\u001b[49m\u001b[43m \u001b[49m\u001b[43mtest_pool\u001b[49m\u001b[43m,\u001b[49m\u001b[43m \u001b[49m\u001b[43mparams\u001b[49m\u001b[43m,\u001b[49m\u001b[43m \u001b[49m\u001b[43mallow_clear_pool\u001b[49m\u001b[43m,\u001b[49m\u001b[43m \u001b[49m\u001b[43minit_model\u001b[49m\u001b[38;5;241;43m.\u001b[39;49m\u001b[43m_object\u001b[49m\u001b[43m \u001b[49m\u001b[38;5;28;43;01mif\u001b[39;49;00m\u001b[43m \u001b[49m\u001b[43minit_model\u001b[49m\u001b[43m \u001b[49m\u001b[38;5;28;43;01melse\u001b[39;49;00m\u001b[43m \u001b[49m\u001b[38;5;28;43;01mNone\u001b[39;49;00m\u001b[43m)\u001b[49m\n\u001b[1;32m   1777\u001b[0m     \u001b[38;5;28mself\u001b[39m\u001b[38;5;241m.\u001b[39m_set_trained_model_attributes()\n",
      "File \u001b[0;32m_catboost.pyx:4833\u001b[0m, in \u001b[0;36m_catboost._CatBoost._train\u001b[0;34m()\u001b[0m\n",
      "File \u001b[0;32m_catboost.pyx:4882\u001b[0m, in \u001b[0;36m_catboost._CatBoost._train\u001b[0;34m()\u001b[0m\n",
      "\u001b[0;31mKeyboardInterrupt\u001b[0m: "
     ]
    }
   ],
   "source": [
    "\n",
    "\n",
    "# Classifier\n",
    "clf = CatBoostClassifier(iterations=1000, \n",
    "                         depth=16, \n",
    "                         learning_rate=0.05, \n",
    "                         loss_function='Logloss',\n",
    "                         random_seed=42)\n",
    "clf.fit(X_train, y_train[target_clf], eval_set=(X_test, y_test[target_clf]), verbose=False)\n",
    "\n",
    "y_clf_pred = clf.predict(X_test)\n",
    "accuracy = accuracy_score(y_test[target_clf], y_clf_pred)\n",
    "print(f'Accuracy: {accuracy:.2f}')"
   ]
  },
  {
   "cell_type": "code",
   "execution_count": null,
   "id": "8647eb86-58fd-4afd-8970-355c87b58d21",
   "metadata": {},
   "outputs": [],
   "source": [
    "# Note\n",
    "\"\"\"\n",
    "BTC\n",
    "CLF - 0.57\n",
    "REG - 1.76\n",
    "\n",
    "USDT\n",
    "CLF - 0.65\n",
    "reg: 1.74\n",
    "\n",
    "Common crypto\n",
    "CLF: 0.6\n",
    "REG: 1.78\n",
    "\n",
    "\"\"\""
   ]
  },
  {
   "cell_type": "code",
   "execution_count": null,
   "id": "0635eb77-a942-42fd-9296-2e140abf46c0",
   "metadata": {},
   "outputs": [],
   "source": []
  }
 ],
 "metadata": {
  "kernelspec": {
   "display_name": "Python 3 (ipykernel)",
   "language": "python",
   "name": "python3"
  },
  "language_info": {
   "codemirror_mode": {
    "name": "ipython",
    "version": 3
   },
   "file_extension": ".py",
   "mimetype": "text/x-python",
   "name": "python",
   "nbconvert_exporter": "python",
   "pygments_lexer": "ipython3",
   "version": "3.9.18"
  }
 },
 "nbformat": 4,
 "nbformat_minor": 5
}
